{
 "cells": [
  {
   "attachments": {},
   "cell_type": "markdown",
   "metadata": {},
   "source": [
    "## pdf to text"
   ]
  },
  {
   "cell_type": "code",
   "execution_count": 1,
   "metadata": {},
   "outputs": [],
   "source": [
    "# 👇 for colab only\n",
    "# !pip install -r https://raw.githubusercontent.com/hoishing/doc2txt/main/requirements-pdf.txt\n",
    "# wget https://github.com/hoishing/doc2txt/raw/main/dummy.pdf"
   ]
  },
  {
   "cell_type": "code",
   "execution_count": 1,
   "metadata": {},
   "outputs": [],
   "source": [
    "from pypdf import PdfReader"
   ]
  },
  {
   "cell_type": "code",
   "execution_count": 7,
   "metadata": {},
   "outputs": [
    {
     "name": "stdout",
     "output_type": "stream",
     "text": [
      "Where does it come from?  \n",
      "is a long established fact that  \n",
      "There are many variations of passages of Lorem Ipsum available, but the majority have suffered \n",
      "alteration in some form, by injected humour  \n",
      "半常書印態那臺星過有  \n",
      " \n",
      "接新時個府 ，小調假孩國影你些出政一力一有是一廣富難參利於食、園紅產木身毒職走\n",
      "方開……現質長之國事國早國國年天方創辦球。三來種把長怎導年我廠體先帶之，親比連\n",
      "滿安氣，史度消頭的受長現吸水雲高會球動金來局無想義壓英合王錯背那……文新晚機\n",
      "無。生物成委求情花後候少飛國月；會國線當廣工。想格說們有現國東多是樂識道、停業\n",
      "裡經於；過電而環了也我回關去好、學究人學然看臺心論小界開我著業你變注過研作化\n",
      "展：熱沒地有量，而了三人旅報同在腦由、我時長事或畫研道、重操必標我濟斯：者到配\n",
      "給物果邊如價呢。  \n",
      " \n",
      "What is Lorem Ipsum?  \n",
      " \n",
      "• Lorem Ipsum is simply dummy text of the printing and  \n",
      "• Lorem Ipsum has been the industry's standard dummy  \n",
      "• when an unknown printer took a galley of type and  \n",
      "• book. It has survived not only five centuries,  \n",
      " \n",
      "Why do we use it?  \n",
      " \n",
      "It is a long established  fact that a reader will be distracted by the readable content of a page \n",
      "when looking at its layout. The point of using Lorem Ipsum is that it has a more -or-less normal \n",
      "distribution of letters, as opposed to using  \n",
      " \n",
      "1. typesetting, remaining essentially unchanged. It was  \n",
      "2. release of Letraset sheets containing Lorem Ipsum  \n",
      "3. publishing software like Aldus PageMaker including versions of Lorem Ipsum.  \n",
      " \n",
      " \n",
      " \n"
     ]
    }
   ],
   "source": [
    "reader = PdfReader(\"dummy.pdf\")\n",
    "\n",
    "txt_pages = [page.extract_text() for page in reader.pages]\n",
    "txt = '\\n'.join(txt_pages)\n",
    "print(txt)"
   ]
  },
  {
   "cell_type": "code",
   "execution_count": 8,
   "metadata": {},
   "outputs": [],
   "source": [
    "# clean up bad characters (optional)\n",
    "import re\n",
    "pattern = r'[ \\n]*—[ \\n]*'\n",
    "txt = re.sub(pattern, '', txt)"
   ]
  }
 ],
 "metadata": {
  "kernelspec": {
   "display_name": ".venv",
   "language": "python",
   "name": "python3"
  },
  "language_info": {
   "codemirror_mode": {
    "name": "ipython",
    "version": 3
   },
   "file_extension": ".py",
   "mimetype": "text/x-python",
   "name": "python",
   "nbconvert_exporter": "python",
   "pygments_lexer": "ipython3",
   "version": "3.11.3"
  },
  "orig_nbformat": 4
 },
 "nbformat": 4,
 "nbformat_minor": 2
}
