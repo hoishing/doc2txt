{
 "cells": [
  {
   "attachments": {},
   "cell_type": "markdown",
   "metadata": {},
   "source": [
    "## preparation"
   ]
  },
  {
   "cell_type": "code",
   "execution_count": 1,
   "metadata": {},
   "outputs": [],
   "source": [
    "from uti import remove_empty_rows, remove_bad_characters\n",
    "from pathlib import Path\n",
    "\n",
    "input = Path(\"./input\")\n",
    "output = Path(\"./output\")\n",
    "\n",
    "\n",
    "def cleanup(txt: str) -> str:\n",
    "    return remove_bad_characters(remove_empty_rows(txt))\n",
    "\n",
    "def write_txt_file(in_path: Path, txt: str):\n",
    "    out_path = (output / in_path.stem).with_suffix(\".txt\")\n",
    "    out_path.write_text(txt)\n"
   ]
  },
  {
   "attachments": {},
   "cell_type": "markdown",
   "metadata": {},
   "source": [
    "## convert docx"
   ]
  },
  {
   "cell_type": "code",
   "execution_count": 2,
   "metadata": {},
   "outputs": [],
   "source": [
    "import docx2txt\n",
    "\n",
    "for doc in input.glob(\"*.docx\"):\n",
    "    txt = docx2txt.process(doc)\n",
    "    txt = cleanup(txt)\n",
    "    write_txt_file(doc, txt)\n"
   ]
  },
  {
   "attachments": {},
   "cell_type": "markdown",
   "metadata": {},
   "source": [
    "## convert pdf"
   ]
  },
  {
   "cell_type": "code",
   "execution_count": 5,
   "metadata": {},
   "outputs": [],
   "source": [
    "from pypdf import PdfReader\n",
    "\n",
    "for pdf in input.glob('*.pdf'):\n",
    "    reader = PdfReader(pdf)\n",
    "    txt_pages = [page.extract_text() for page in reader.pages]\n",
    "    txt = '\\n'.join(txt_pages)\n",
    "    txt = cleanup(txt)\n",
    "    write_txt_file(pdf, txt)\n"
   ]
  },
  {
   "attachments": {},
   "cell_type": "markdown",
   "metadata": {},
   "source": [
    "## convet epub"
   ]
  },
  {
   "cell_type": "code",
   "execution_count": 3,
   "metadata": {},
   "outputs": [],
   "source": [
    "from ebooklib import ITEM_DOCUMENT\n",
    "from ebooklib.epub import read_epub\n",
    "from bs4 import BeautifulSoup\n",
    "import warnings\n",
    "warnings.simplefilter(action='ignore', category=UserWarning)"
   ]
  },
  {
   "cell_type": "code",
   "execution_count": 4,
   "metadata": {},
   "outputs": [],
   "source": [
    "for epub in input.glob(\"*.epub\"):\n",
    "    bk = read_epub(epub)\n",
    "\n",
    "    # extract HTML from ITEM_DOCUMENT\n",
    "    htmls = [\n",
    "        item.get_body_content().decode(\"utf-8\")\n",
    "        for item in bk.get_items()\n",
    "        if item.get_type() == ITEM_DOCUMENT and type(item.get_body_content()) is bytes\n",
    "    ]\n",
    "    html = \"\".join(htmls)\n",
    "\n",
    "    # parse html to txt\n",
    "    txt = BeautifulSoup(html, \"html.parser\").get_text()\n",
    "    txt = cleanup(txt)\n",
    "    write_txt_file(epub, txt)\n"
   ]
  }
 ],
 "metadata": {
  "kernelspec": {
   "display_name": ".venv",
   "language": "python",
   "name": "python3"
  },
  "language_info": {
   "codemirror_mode": {
    "name": "ipython",
    "version": 3
   },
   "file_extension": ".py",
   "mimetype": "text/x-python",
   "name": "python",
   "nbconvert_exporter": "python",
   "pygments_lexer": "ipython3",
   "version": "3.11.3"
  },
  "orig_nbformat": 4
 },
 "nbformat": 4,
 "nbformat_minor": 2
}
