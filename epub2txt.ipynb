{
 "cells": [
  {
   "attachments": {},
   "cell_type": "markdown",
   "metadata": {},
   "source": [
    "## epub to text"
   ]
  },
  {
   "cell_type": "code",
   "execution_count": 1,
   "metadata": {},
   "outputs": [],
   "source": [
    "# 👇 for colab only\n",
    "# !pip install -r https://raw.githubusercontent.com/hoishing/doc2txt/main/requirements-epub.txt\n",
    "# wget https://github.com/hoishing/doc2txt/raw/main/dummy.epub"
   ]
  },
  {
   "cell_type": "code",
   "execution_count": 2,
   "metadata": {},
   "outputs": [],
   "source": [
    "import ebooklib\n",
    "from ebooklib import epub\n",
    "from ebooklib.epub import EpubBook\n",
    "from bs4 import BeautifulSoup"
   ]
  },
  {
   "cell_type": "code",
   "execution_count": 3,
   "metadata": {},
   "outputs": [],
   "source": [
    "def extract_html(bk: EpubBook) -> bytes:\n",
    "    \"\"\"extract content from ITEM_DOCUMENT\"\"\"\n",
    "    data = b''\n",
    "    for item in bk.get_items():\n",
    "        if item.get_type() == ebooklib.ITEM_DOCUMENT:\n",
    "            data += item.get_body_content()\n",
    "\n",
    "    return data\n",
    "            \n",
    "def parse_html(html: bytes) -> str:\n",
    "    \"\"\"extract string content from HTML\"\"\"\n",
    "    soup = BeautifulSoup(html, \"html.parser\")\n",
    "    return soup.get_text()"
   ]
  },
  {
   "cell_type": "code",
   "execution_count": 4,
   "metadata": {},
   "outputs": [
    {
     "data": {
      "text/plain": [
       "{8: 'ITEM_AUDIO',\n",
       " 10: 'ITEM_COVER',\n",
       " 9: 'ITEM_DOCUMENT',\n",
       " 6: 'ITEM_FONT',\n",
       " 1: 'ITEM_IMAGE',\n",
       " 4: 'ITEM_NAVIGATION',\n",
       " 3: 'ITEM_SCRIPT',\n",
       " 11: 'ITEM_SMIL',\n",
       " 2: 'ITEM_STYLE',\n",
       " 0: 'ITEM_UNKNOWN',\n",
       " 5: 'ITEM_VECTOR',\n",
       " 7: 'ITEM_VIDEO'}"
      ]
     },
     "execution_count": 4,
     "metadata": {},
     "output_type": "execute_result"
    }
   ],
   "source": [
    "item_types = {vars(ebooklib)[item]: item for item in dir(ebooklib) if item.startswith('ITEM')}\n",
    "item_types"
   ]
  },
  {
   "cell_type": "code",
   "execution_count": 5,
   "metadata": {},
   "outputs": [],
   "source": [
    "filename = 'dummy'\n",
    "epub_file = filename + '.epub'"
   ]
  },
  {
   "cell_type": "code",
   "execution_count": 6,
   "metadata": {},
   "outputs": [],
   "source": [
    "import warnings\n",
    "warnings.simplefilter(action='ignore', category=UserWarning)\n",
    "\n",
    "bk = epub.read_epub(epub_file)"
   ]
  },
  {
   "cell_type": "code",
   "execution_count": 8,
   "metadata": {},
   "outputs": [
    {
     "name": "stdout",
     "output_type": "stream",
     "text": [
      "\n",
      "\n",
      "\n",
      "\n",
      "\n",
      "\n",
      "\n",
      "Where does it come from?\n",
      "is a long established fact that\n",
      "There are many variations of passages of Lorem Ipsum available, but the majority have suffered alteration in some form, by injected humour\n",
      "半常書印態那臺星過有\n",
      " \n",
      "接新時個府，小調假孩國影你些出政一力一有是一廣富難參利於食、園紅產木身毒職走方開……現質長之國事國早國國年天方創辦球。三來種把長怎導年我廠體先帶之，親比連滿安氣，史度消頭的受長現吸水雲高會球動金來局無想義壓英合王錯背那……文新晚機無。生物成委求情花後候少飛國月；會國線當廣工。想格說們有現國東多是樂識道、停業裡經於；過電而環了也我回關去好、學究人學然看臺心論小界開我著業你變注過研作化展：熱沒地有量，而了三人旅報同在腦由、我時長事或畫研道、重操必標我濟斯：者到配給物果邊如價呢。\n",
      " \n",
      "What is Lorem Ipsum?\n",
      " \n",
      "\n",
      "Lorem Ipsum is simply dummy text of the printing and \n",
      "Lorem Ipsum has been the industry's standard dummy \n",
      "when an unknown printer took a galley of type and \n",
      "book. It has survived not only five centuries, \n",
      "\n",
      " \n",
      "Why do we use it?\n",
      " \n",
      "It is a long established fact that a reader will be distracted by the readable content of a page when looking at its layout. The point of using Lorem Ipsum is that it has a more-or-less normal distribution of letters, as opposed to using\n",
      " \n",
      "\n",
      "typesetting, remaining essentially unchanged. It was \n",
      "release of Letraset sheets containing Lorem Ipsum \n",
      "publishing software like Aldus PageMaker including versions of Lorem Ipsum.\n",
      "\n",
      " \n",
      " \n",
      " \n",
      "\n",
      "\n"
     ]
    }
   ],
   "source": [
    "html = extract_html(bk)\n",
    "txt = parse_html(html)\n",
    "print(txt)"
   ]
  },
  {
   "cell_type": "code",
   "execution_count": 8,
   "metadata": {},
   "outputs": [],
   "source": [
    "# clean up bad characters (optional)\n",
    "import re\n",
    "pattern = r'[ \\n]*—[ \\n]*'\n",
    "txt = re.sub(pattern, '', txt)"
   ]
  }
 ],
 "metadata": {
  "kernelspec": {
   "display_name": ".venv",
   "language": "python",
   "name": "python3"
  },
  "language_info": {
   "codemirror_mode": {
    "name": "ipython",
    "version": 3
   },
   "file_extension": ".py",
   "mimetype": "text/x-python",
   "name": "python",
   "nbconvert_exporter": "python",
   "pygments_lexer": "ipython3",
   "version": "3.11.3"
  },
  "orig_nbformat": 4
 },
 "nbformat": 4,
 "nbformat_minor": 2
}
