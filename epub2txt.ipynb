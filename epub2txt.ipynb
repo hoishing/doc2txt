{
 "cells": [
  {
   "cell_type": "code",
   "execution_count": null,
   "metadata": {},
   "outputs": [],
   "source": [
    "# for colab only\n",
    "!pip install -r https://github.com/hoishing/doc2txt/requirements-epub.txt"
   ]
  },
  {
   "cell_type": "code",
   "execution_count": 2,
   "metadata": {},
   "outputs": [],
   "source": [
    "import ebooklib\n",
    "from ebooklib import epub\n",
    "from ebooklib.epub import EpubBook\n",
    "from bs4 import BeautifulSoup\n",
    "\n",
    "def extract_html(bk: EpubBook) -> bytes:\n",
    "    \"\"\"extract content from ITEM_DOCUMENT\"\"\"\n",
    "    data = b''\n",
    "    for item in bk.get_items():\n",
    "        if item.get_type() == ebooklib.ITEM_DOCUMENT:\n",
    "            data += item.get_body_content()\n",
    "\n",
    "    return data\n",
    "            \n",
    "def parse_html(html: bytes) -> str:\n",
    "    \"\"\"extract string content from HTML\"\"\"\n",
    "    soup = BeautifulSoup(html, \"html.parser\")\n",
    "    return soup.get_text()"
   ]
  },
  {
   "cell_type": "code",
   "execution_count": 3,
   "metadata": {},
   "outputs": [
    {
     "data": {
      "text/plain": [
       "{8: 'ITEM_AUDIO',\n",
       " 10: 'ITEM_COVER',\n",
       " 9: 'ITEM_DOCUMENT',\n",
       " 6: 'ITEM_FONT',\n",
       " 1: 'ITEM_IMAGE',\n",
       " 4: 'ITEM_NAVIGATION',\n",
       " 3: 'ITEM_SCRIPT',\n",
       " 11: 'ITEM_SMIL',\n",
       " 2: 'ITEM_STYLE',\n",
       " 0: 'ITEM_UNKNOWN',\n",
       " 5: 'ITEM_VECTOR',\n",
       " 7: 'ITEM_VIDEO'}"
      ]
     },
     "execution_count": 3,
     "metadata": {},
     "output_type": "execute_result"
    }
   ],
   "source": [
    "item_types = {vars(ebooklib)[item]: item for item in dir(ebooklib) if item.startswith('ITEM')}\n",
    "item_types"
   ]
  },
  {
   "cell_type": "code",
   "execution_count": 5,
   "metadata": {},
   "outputs": [],
   "source": [
    "filename = 'reality'\n",
    "epub_file = filename + '.epub'\n",
    "txt_file = filename + '.txt'"
   ]
  },
  {
   "cell_type": "code",
   "execution_count": 6,
   "metadata": {},
   "outputs": [
    {
     "name": "stderr",
     "output_type": "stream",
     "text": [
      "/Users/shing/gh/epub-to-txt/.venv/lib/python3.11/site-packages/ebooklib/epub.py:1395: UserWarning: In the future version we will turn default option ignore_ncx to True.\n",
      "  warnings.warn('In the future version we will turn default option ignore_ncx to True.')\n"
     ]
    }
   ],
   "source": [
    "bk = epub.read_epub(epub_file)"
   ]
  },
  {
   "cell_type": "code",
   "execution_count": 7,
   "metadata": {},
   "outputs": [
    {
     "data": {
      "text/plain": [
       "'\\n\\nJane Roberts Seth Nature Of Personal Reality\\nnin'"
      ]
     },
     "execution_count": 7,
     "metadata": {},
     "output_type": "execute_result"
    }
   ],
   "source": [
    "html = extract_html(bk)\n",
    "txt = parse_html(html)\n",
    "txt[:50]"
   ]
  },
  {
   "cell_type": "code",
   "execution_count": 8,
   "metadata": {},
   "outputs": [],
   "source": [
    "# clean up bad characters\n",
    "import re\n",
    "pattern = r'[ \\n]*—[ \\n]*'\n",
    "txt = re.sub(pattern, '', txt)"
   ]
  },
  {
   "cell_type": "code",
   "execution_count": 9,
   "metadata": {},
   "outputs": [],
   "source": [
    "with open(txt_file, 'w') as f:\n",
    "    f.write(txt)"
   ]
  },
  {
   "cell_type": "code",
   "execution_count": null,
   "metadata": {},
   "outputs": [],
   "source": [
    "print('done')"
   ]
  }
 ],
 "metadata": {
  "kernelspec": {
   "display_name": ".venv",
   "language": "python",
   "name": "python3"
  },
  "language_info": {
   "codemirror_mode": {
    "name": "ipython",
    "version": 3
   },
   "file_extension": ".py",
   "mimetype": "text/x-python",
   "name": "python",
   "nbconvert_exporter": "python",
   "pygments_lexer": "ipython3",
   "version": "3.11.3"
  },
  "orig_nbformat": 4
 },
 "nbformat": 4,
 "nbformat_minor": 2
}
