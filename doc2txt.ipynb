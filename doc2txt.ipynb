{
 "cells": [
  {
   "attachments": {},
   "cell_type": "markdown",
   "metadata": {},
   "source": [
    "# doc2text\n",
    "\n",
    "> extract text from epub, pdf and docx"
   ]
  },
  {
   "cell_type": "code",
   "execution_count": 1,
   "metadata": {},
   "outputs": [],
   "source": [
    "# 👇 for colab only\n",
    "# !pip install -r https://raw.githubusercontent.com/hoishing/doc2txt/main/requirements.txt\n",
    "# !wget https://github.com/hoishing/doc2txt/raw/main/dummy.docx\n",
    "# !wget https://github.com/hoishing/doc2txt/raw/main/dummy.epub\n",
    "# !wget https://github.com/hoishing/doc2txt/raw/main/dummy.pdf"
   ]
  },
  {
   "cell_type": "code",
   "execution_count": 2,
   "metadata": {},
   "outputs": [],
   "source": [
    "# utils\n",
    "import re\n",
    "\n",
    "def remove_empty_rows(txt:str) -> str:\n",
    "    return re.sub(r'(\\n\\s*){3,}', r'\\n\\n', txt)\n",
    "\n",
    "def remove_bad_characters(txt: str) -> str:\n",
    "    pattern = r'[ \\n]*—[ \\n]*'\n",
    "    return re.sub(pattern, '', txt)"
   ]
  },
  {
   "attachments": {},
   "cell_type": "markdown",
   "metadata": {},
   "source": [
    "## docx"
   ]
  },
  {
   "cell_type": "code",
   "execution_count": 3,
   "metadata": {},
   "outputs": [
    {
     "name": "stdout",
     "output_type": "stream",
     "text": [
      "Lorem Ipsum\n",
      "\n",
      "simply dummy text \n",
      "\n",
      "🤣 Lorem ipsum dolor sit amet, consectetur adipiscing elit. Praesent interdum ultrices nisi vel ullamcorper. Aliquam fermentum porttitor ligula in pharetra. Proin sed tristique sapien. Quisque tempor dictum nibh, in interdum dui gravida in. \n",
      "\n",
      "What is Lorem Ipsum?\n",
      "\n",
      "Lorem Ipsum is simply dummy text of the printing and \n",
      "\n",
      "Lorem Ipsum has been the industry's standard dummy \n",
      "\n",
      "光嗎開計，場熱使造不品不智定內她充日如生分音我，思那上感認主學道，此盡上的畫身起他，血選兩造不新從謝三母時！立因打大事細團，力記廣進算期的，了老吃水年不。🥳\n"
     ]
    }
   ],
   "source": [
    "import docx2txt\n",
    "\n",
    "txt = docx2txt.process(\"dummy.docx\")\n",
    "txt = remove_empty_rows(txt)\n",
    "print(txt)"
   ]
  },
  {
   "attachments": {},
   "cell_type": "markdown",
   "metadata": {},
   "source": [
    "## pdf"
   ]
  },
  {
   "cell_type": "code",
   "execution_count": 4,
   "metadata": {},
   "outputs": [
    {
     "name": "stdout",
     "output_type": "stream",
     "text": [
      "Lorem Ipsum  \n",
      "simply dummy text  \n",
      " \n",
      "        Lorem ipsum dolor sit amet, consectetur adipiscing elit. Praesent interdum ultrices nisi vel \n",
      "ullamcorper. Aliquam fermentum porttitor ligula in pharetra. Proin sed tristique sapien. Quisque \n",
      "tempor dictum nibh, in interdum dui gravida in.  \n",
      " \n",
      "What is Lorem Ipsum?  \n",
      " \n",
      "• Lorem Ipsum is simply dummy text of the printing and  \n",
      "• Lorem Ipsum has been the industry's standard dummy  \n",
      " \n",
      "光嗎開計，場熱使造不品不智定內她充日如生分音我，思那上感認主學道，此盡上的畫身\n",
      "起他，血選兩造不新從謝三母時！立因打大事細團，力記廣進算期的，了老吃水年不。\n",
      "            \n"
     ]
    }
   ],
   "source": [
    "from pypdf import PdfReader\n",
    "\n",
    "reader = PdfReader(\"dummy.pdf\")\n",
    "\n",
    "txt_pages = [page.extract_text() for page in reader.pages]\n",
    "txt = '\\n'.join(txt_pages)\n",
    "print(txt)"
   ]
  },
  {
   "attachments": {},
   "cell_type": "markdown",
   "metadata": {},
   "source": [
    "## epub"
   ]
  },
  {
   "cell_type": "code",
   "execution_count": 5,
   "metadata": {},
   "outputs": [],
   "source": [
    "import ebooklib\n",
    "from ebooklib import epub\n",
    "from ebooklib.epub import EpubBook\n",
    "from bs4 import BeautifulSoup\n",
    "import warnings\n",
    "warnings.simplefilter(action='ignore', category=UserWarning)"
   ]
  },
  {
   "cell_type": "code",
   "execution_count": 6,
   "metadata": {},
   "outputs": [
    {
     "name": "stdout",
     "output_type": "stream",
     "text": [
      "\n",
      "\n",
      "Lorem Ipsum\n",
      "\n",
      "simply dummy text \n",
      "\n",
      "🤣 Lorem ipsum dolor sit amet, consectetur adipiscing elit. Praesent interdum ultrices nisi vel ullamcorper. Aliquam fermentum porttitor ligula in pharetra. Proin sed tristique sapien. Quisque tempor dictum nibh, in interdum dui gravida in. \n",
      "\n",
      "What is Lorem Ipsum?\n",
      "\n",
      "Lorem Ipsum is simply dummy text of the printing and \n",
      "\n",
      "Lorem Ipsum has been the industry's standard dummy \n",
      "\n",
      "光嗎開計，場熱使造不品不智定內她充日如生分音我，思那上感認主學道，此盡上的畫身起他，血選兩造不新從謝三母時！立因打大事細團，力記廣進算期的，了老吃水年不。\n",
      "🥳\n",
      "\n",
      "\n"
     ]
    }
   ],
   "source": [
    "bk = epub.read_epub('dummy.epub')\n",
    "\n",
    "# extract HTML from ITEM_DOCUMENT\n",
    "htmls = [item.get_body_content().decode('utf-8') for item in bk.get_items() if item.get_type() == ebooklib.ITEM_DOCUMENT]\n",
    "html = ''.join(htmls)\n",
    "\n",
    "# parse html to txt\n",
    "txt = BeautifulSoup(html, 'html.parser').get_text()\n",
    "txt = remove_empty_rows(txt)\n",
    "print(txt)"
   ]
  }
 ],
 "metadata": {
  "kernelspec": {
   "display_name": ".venv",
   "language": "python",
   "name": "python3"
  },
  "language_info": {
   "codemirror_mode": {
    "name": "ipython",
    "version": 3
   },
   "file_extension": ".py",
   "mimetype": "text/x-python",
   "name": "python",
   "nbconvert_exporter": "python",
   "pygments_lexer": "ipython3",
   "version": "3.11.3"
  },
  "orig_nbformat": 4
 },
 "nbformat": 4,
 "nbformat_minor": 2
}
